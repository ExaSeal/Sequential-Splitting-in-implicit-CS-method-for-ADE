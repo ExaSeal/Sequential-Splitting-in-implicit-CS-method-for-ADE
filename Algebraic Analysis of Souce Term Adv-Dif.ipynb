{
 "cells": [
  {
   "cell_type": "code",
   "execution_count": 37,
   "id": "97df01d9",
   "metadata": {},
   "outputs": [],
   "source": [
    "import sympy as smp\n",
    "from sympy import I, Eq, sin, cos\n",
    "from IPython.display import display\n",
    "\n",
    "\n",
    "#common variables\n",
    "alpha, beta, gamma, sigma, y, dt, t, s, f = smp.symbols('alpha beta gamma sigma y Δt t s f')\n",
    "\n",
    "# 'y' values at different time steps\n",
    "yn, yn1, yp, ypp, yppp = smp.symbols('y^n y^{n+1} y\\' y\\'\\' y\\'\\'\\'')\n",
    "\n",
    "z = alpha + beta * I\n",
    "m = gamma + sigma * I\n",
    "\n",
    "#scheme variables\n",
    "xi, xi1, xi2, xi3, eta = smp.symbols('ξ ξ_1 ξ_2 ξ_3 η')"
   ]
  },
  {
   "cell_type": "code",
   "execution_count": 38,
   "id": "50965ee0",
   "metadata": {},
   "outputs": [
    {
     "name": "stdout",
     "output_type": "stream",
     "text": [
      "The scheme steps is (In the order of operation):\n"
     ]
    },
    {
     "data": {
      "text/latex": [
       "$\\displaystyle \\frac{- y^{n} + y^{n+1}}{Δt} = 0.5 y^{n} \\left(\\alpha + i \\beta\\right)$"
      ],
      "text/plain": [
       "Eq((-y^n + y^{n+1})/Δt, 0.5*y^n*(alpha + I*beta))"
      ]
     },
     "metadata": {},
     "output_type": "display_data"
    },
    {
     "data": {
      "text/latex": [
       "$\\displaystyle \\frac{- y^{n} + y^{n+1}}{Δt} = 1.0 \\gamma + 1.0 i \\sigma$"
      ],
      "text/plain": [
       "Eq((-y^n + y^{n+1})/Δt, 1.0*gamma + 1.0*I*sigma)"
      ]
     },
     "metadata": {},
     "output_type": "display_data"
    },
    {
     "data": {
      "text/latex": [
       "$\\displaystyle \\frac{- y^{n} + y^{n+1}}{Δt} = 0.5 y^{n+1} \\left(\\alpha + i \\beta\\right)$"
      ],
      "text/plain": [
       "Eq((-y^n + y^{n+1})/Δt, 0.5*y^{n+1}*(alpha + I*beta))"
      ]
     },
     "metadata": {},
     "output_type": "display_data"
    },
    {
     "name": "stdout",
     "output_type": "stream",
     "text": [
      "Have steady state:\n"
     ]
    },
    {
     "data": {
      "text/latex": [
       "$\\displaystyle \\frac{- \\gamma - i \\sigma}{\\alpha + i \\beta}$"
      ],
      "text/plain": [
       "(-gamma - I*sigma)/(alpha + I*beta)"
      ]
     },
     "metadata": {},
     "output_type": "display_data"
    },
    {
     "name": "stdout",
     "output_type": "stream",
     "text": [
      "Have steady state error:\n"
     ]
    },
    {
     "data": {
      "text/latex": [
       "$\\displaystyle 0$"
      ],
      "text/plain": [
       "0"
      ]
     },
     "metadata": {},
     "output_type": "display_data"
    }
   ],
   "source": [
    "#list of possible steps ({step_type: equation})\n",
    "step_lists = {\n",
    "    \"ADV_step\" : Eq((yn1-yn)/dt, eta*(f*beta*I*(xi*yn1 + (1-xi)*yn) + s*sigma*I)), #ADV step with ADV source term\n",
    "    \"DIFF_step\" : Eq((yn1-yn)/dt, eta*(f*alpha*(xi*yn1 + (1-xi)*yn) + s*gamma)), #DIFF step with DIFF source term\n",
    "    \"ADV_DIFF_step\" : Eq((yn1-yn)/dt, eta*(f*z*(xi*yn1 + (1-xi)*yn) + s*m)),\n",
    "    \"ADV_step_fullS\" : Eq((yn1-yn)/dt, eta*(f*beta*I*(xi*yn1 + (1-xi)*yn) + s*m)), #ADV step with full source term\n",
    "    \"DIFF_step_fullS\" : Eq((yn1-yn)/dt, eta*(f*alpha*(xi*yn1 + (1-xi)*yn) + s*m)), #DIFF step with full source term \n",
    "}\n",
    "#Each step is a tuple of the form [step_type, params], the assemble function depends on the tuple structure to work\n",
    "#params is a dictionary of the form: {\"xi (implicitness)\": value, \"eta (weight)\": value, \"s (source term toggle)\": value, \"f (force term toggle)\": value}\n",
    "\n",
    "#Here is an example recipe for CN, explicit - source - CN, implicit splitting, or (5)(iv) in the document\n",
    "EXAMPLE_RECIPE = [\n",
    "    (\"ADV_DIFF_step\", {\"xi\": 0, \"eta\": 0.5, \"s\": 0, \"f\": 1.0}),\n",
    "    (\"ADV_DIFF_step\", {\"xi\": 0, \"eta\": 1.0, \"s\": 1, \"f\": 0}),\n",
    "    (\"ADV_DIFF_step\", {\"xi\": 1, \"eta\": 0.5, \"s\": 0, \"f\": 1.0}),\n",
    "]\n",
    "\n",
    "\n",
    "def recipe_to_equation(recipe):\n",
    "    \"\"\"\n",
    "    Converts a recipe of steps, input the parameters and turn into a equation.\n",
    "    recipe: list of tuples\n",
    "        recipe: list of tuples\n",
    "            Each tuple contains the step type and a dictionary of parameters.\n",
    "            Example: [\n",
    "            (\"step_type\", \n",
    "            {\n",
    "            \"xi (implicitness)\": value, \n",
    "            \"eta (weight)\": value, \n",
    "            \"s (source term toggle)\": value, \n",
    "            \"f (flux term toggle)\": value\n",
    "            }\n",
    "            )\n",
    "            ]\n",
    "    Returns:\n",
    "        A list of sympy equations Eq(lhs,rhs) representing the steps in the recipe.\n",
    "    \"\"\"\n",
    "    #list of step equations\n",
    "    steps = []\n",
    "    for step_type, params in recipe:\n",
    "        # Substitute the parameters into the step\n",
    "        eq = step_lists[step_type].subs(xi, params[\"xi\"]).subs(eta, params[\"eta\"]).subs(s, params[\"s\"]).subs(f, params[\"f\"])\n",
    "        steps.append(eq)\n",
    "\n",
    "    return steps\n",
    "\n",
    "#Each step is a tuple of the form (step_type, params), the assemble function depends on the tuple structure to work\n",
    "step_recipe = [\n",
    "    (\"ADV_DIFF_step\", {\"xi\": 0, \"eta\": 0.5, \"s\": 0, \"f\": 1.0}),\n",
    "    (\"ADV_DIFF_step\", {\"xi\": 0, \"eta\": 1.0, \"s\": 1, \"f\": 0}),\n",
    "    (\"ADV_DIFF_step\", {\"xi\": 1, \"eta\": 0.5, \"s\": 0, \"f\": 1.0}),\n",
    "]\n",
    "\n",
    "def assemble_scheme(steps):\n",
    "    \"\"\"\n",
    "    Assembles the equivalent scheme from the list of steps.\n",
    "    Parameters:\n",
    "        steps: list of sympy equations\n",
    "            Each equation is in the form Eq(lhs, rhs) representing the steps in the recipe.\n",
    "    returns:\n",
    "        A sympy equation representing the assembled scheme.\n",
    "    \"\"\"\n",
    "    for i in range(len(steps)-1):\n",
    "        step_sol = smp.solve(steps[i], yn1)[0]\n",
    "        steps[i+1] = steps[i+1].subs(yn, step_sol)\n",
    "\n",
    "    return smp.simplify(steps[-1])\n",
    "\n",
    "def solve_ss(eq, y_n, y_n1):\n",
    "    \"\"\"\n",
    "    Solves for the steady-state solution of a given equation by equating\n",
    "    y_n to be y_n1.\n",
    "\n",
    "    Parameters:\n",
    "        eq: sympy.Equality\n",
    "            The equation to solve for steady-state in the form \n",
    "            Eq(lhs, rhs) with variables yn and yn1\n",
    "\n",
    "    Returns:\n",
    "    The simplified steady-state solution of the equation.\n",
    "    \"\"\"\n",
    "    Eq1 = smp.Eq(eq.lhs*dt, eq.rhs*dt)\n",
    "    Eq2 = Eq1.subs(y_n, y_n1)\n",
    "    Eq3 = smp.solve(Eq2, y_n1)[0]\n",
    "    \n",
    "    return smp.simplify(Eq3)\n",
    "\n",
    "def scheme_summary(recipe):\n",
    "    \"\"\"\n",
    "    Builds the scheme from recipe and displays the steps, steady state and splitting error from dy/dt = zy.\n",
    "    Parameters:\n",
    "        recipe: list of tuples\n",
    "            Each tuple contains the step type and a dictionary of parameters.\n",
    "            Example: [\n",
    "            (\"step_type\", \n",
    "            {\n",
    "            \"xi (implicitness)\": value, \n",
    "            \"eta (weight)\": value, \n",
    "            \"s (source term toggle)\": value, \n",
    "            \"f (flux term toggle)\": value\n",
    "            }\n",
    "            )\n",
    "            ]\n",
    "        analytic: sympy expression\n",
    "            The analytic solution taylor expansion for dy/dt = zy.\n",
    "    \"\"\"\n",
    "    steps = recipe_to_equation(recipe)\n",
    "    print(\"The scheme steps is (In the order of operation):\")\n",
    "    display(*steps)\n",
    "    assembled_scheme = assemble_scheme(steps)\n",
    "    steady_state = solve_ss(assembled_scheme, yn, yn1)\n",
    "    print(\"Have steady state:\")\n",
    "    display(steady_state)\n",
    "    print(\"Have steady state error:\")\n",
    "    display(smp.simplify(smp.expand(steady_state) - smp.expand(-m/z)))\n",
    "\n",
    "scheme_summary(EXAMPLE_RECIPE)"
   ]
  },
  {
   "cell_type": "markdown",
   "id": "6a36b110",
   "metadata": {},
   "source": [
    "### The following section showcase splitting schemes branching from the Source-Forcing-Source (4) method and thier steady state errors\n",
    "Here, we have common step type:\n",
    "\"ADV_DIFF_step\", with s=1, f=0\n",
    "\"ADV_DIFF_step\" with s=0, f=1\n",
    "\"ADV_DIFF_step\" with s=1, f=0\n",
    "\n",
    "We see this indeed recreate the SFS split from Dubal et al. (2004)"
   ]
  },
  {
   "cell_type": "code",
   "execution_count": 39,
   "id": "d648b3c5",
   "metadata": {},
   "outputs": [
    {
     "name": "stdout",
     "output_type": "stream",
     "text": [
      "The scheme steps is (In the order of operation):\n"
     ]
    },
    {
     "data": {
      "text/latex": [
       "$\\displaystyle \\frac{- y^{n} + y^{n+1}}{Δt} = 0$"
      ],
      "text/plain": [
       "Eq((-y^n + y^{n+1})/Δt, 0)"
      ]
     },
     "metadata": {},
     "output_type": "display_data"
    },
    {
     "data": {
      "text/latex": [
       "$\\displaystyle \\frac{- y^{n} + y^{n+1}}{Δt} = y^{n} \\left(\\alpha + i \\beta\\right)$"
      ],
      "text/plain": [
       "Eq((-y^n + y^{n+1})/Δt, y^n*(alpha + I*beta))"
      ]
     },
     "metadata": {},
     "output_type": "display_data"
    },
    {
     "data": {
      "text/latex": [
       "$\\displaystyle \\frac{- y^{n} + y^{n+1}}{Δt} = \\gamma + i \\sigma$"
      ],
      "text/plain": [
       "Eq((-y^n + y^{n+1})/Δt, gamma + I*sigma)"
      ]
     },
     "metadata": {},
     "output_type": "display_data"
    },
    {
     "name": "stdout",
     "output_type": "stream",
     "text": [
      "Have steady state:\n"
     ]
    },
    {
     "data": {
      "text/latex": [
       "$\\displaystyle \\frac{- \\gamma - i \\sigma}{\\alpha + i \\beta}$"
      ],
      "text/plain": [
       "(-gamma - I*sigma)/(alpha + I*beta)"
      ]
     },
     "metadata": {},
     "output_type": "display_data"
    },
    {
     "name": "stdout",
     "output_type": "stream",
     "text": [
      "Have steady state error:\n"
     ]
    },
    {
     "data": {
      "text/latex": [
       "$\\displaystyle 0$"
      ],
      "text/plain": [
       "0"
      ]
     },
     "metadata": {},
     "output_type": "display_data"
    }
   ],
   "source": [
    "#(4)(i), explicit - source splitting (expect exact steady state)\n",
    "FS_recipe = [\n",
    "    (\"ADV_DIFF_step\", {\"xi\": 0, \"eta\": 0, \"s\": 1, \"f\": 0}),\n",
    "    (\"ADV_DIFF_step\", {\"xi\": 0, \"eta\": 1, \"s\": 0, \"f\": 1}),\n",
    "    (\"ADV_DIFF_step\", {\"xi\": 0, \"eta\": 1, \"s\": 1, \"f\": 0}),\n",
    "]\n",
    "scheme_summary(FS_recipe)"
   ]
  },
  {
   "cell_type": "code",
   "execution_count": 40,
   "id": "6d512633",
   "metadata": {},
   "outputs": [
    {
     "name": "stdout",
     "output_type": "stream",
     "text": [
      "The scheme steps is (In the order of operation):\n"
     ]
    },
    {
     "data": {
      "text/latex": [
       "$\\displaystyle \\frac{- y^{n} + y^{n+1}}{Δt} = \\gamma + i \\sigma$"
      ],
      "text/plain": [
       "Eq((-y^n + y^{n+1})/Δt, gamma + I*sigma)"
      ]
     },
     "metadata": {},
     "output_type": "display_data"
    },
    {
     "data": {
      "text/latex": [
       "$\\displaystyle \\frac{- y^{n} + y^{n+1}}{Δt} = y^{n+1} \\left(\\alpha + i \\beta\\right)$"
      ],
      "text/plain": [
       "Eq((-y^n + y^{n+1})/Δt, y^{n+1}*(alpha + I*beta))"
      ]
     },
     "metadata": {},
     "output_type": "display_data"
    },
    {
     "data": {
      "text/latex": [
       "$\\displaystyle \\frac{- y^{n} + y^{n+1}}{Δt} = 0$"
      ],
      "text/plain": [
       "Eq((-y^n + y^{n+1})/Δt, 0)"
      ]
     },
     "metadata": {},
     "output_type": "display_data"
    },
    {
     "name": "stdout",
     "output_type": "stream",
     "text": [
      "Have steady state:\n"
     ]
    },
    {
     "data": {
      "text/latex": [
       "$\\displaystyle \\frac{- \\gamma - i \\sigma}{\\alpha + i \\beta}$"
      ],
      "text/plain": [
       "(-gamma - I*sigma)/(alpha + I*beta)"
      ]
     },
     "metadata": {},
     "output_type": "display_data"
    },
    {
     "name": "stdout",
     "output_type": "stream",
     "text": [
      "Have steady state error:\n"
     ]
    },
    {
     "data": {
      "text/latex": [
       "$\\displaystyle 0$"
      ],
      "text/plain": [
       "0"
      ]
     },
     "metadata": {},
     "output_type": "display_data"
    }
   ],
   "source": [
    "#(4)(ii), source - implicit splitting (expect exact steady state)\n",
    "SF_recipe = [\n",
    "    (\"ADV_DIFF_step\", {\"xi\": 1, \"eta\": 1, \"s\": 1, \"f\": 0}),\n",
    "    (\"ADV_DIFF_step\", {\"xi\": 1, \"eta\": 1, \"s\": 0, \"f\": 1}),\n",
    "    (\"ADV_DIFF_step\", {\"xi\": 0, \"eta\": 0, \"s\": 1, \"f\": 0}),\n",
    "]\n",
    "scheme_summary(SF_recipe)"
   ]
  },
  {
   "cell_type": "code",
   "execution_count": 41,
   "id": "d3e6f1a2",
   "metadata": {},
   "outputs": [
    {
     "name": "stdout",
     "output_type": "stream",
     "text": [
      "The scheme steps is (In the order of operation):\n"
     ]
    },
    {
     "data": {
      "text/latex": [
       "$\\displaystyle \\frac{- y^{n} + y^{n+1}}{Δt} = 0.5 \\gamma + 0.5 i \\sigma$"
      ],
      "text/plain": [
       "Eq((-y^n + y^{n+1})/Δt, 0.5*gamma + 0.5*I*sigma)"
      ]
     },
     "metadata": {},
     "output_type": "display_data"
    },
    {
     "data": {
      "text/latex": [
       "$\\displaystyle \\frac{- y^{n} + y^{n+1}}{Δt} = 1.0 \\left(\\alpha + i \\beta\\right) \\left(0.5 y^{n} + 0.5 y^{n+1}\\right)$"
      ],
      "text/plain": [
       "Eq((-y^n + y^{n+1})/Δt, 1.0*(alpha + I*beta)*(0.5*y^n + 0.5*y^{n+1}))"
      ]
     },
     "metadata": {},
     "output_type": "display_data"
    },
    {
     "data": {
      "text/latex": [
       "$\\displaystyle \\frac{- y^{n} + y^{n+1}}{Δt} = 0.5 \\gamma + 0.5 i \\sigma$"
      ],
      "text/plain": [
       "Eq((-y^n + y^{n+1})/Δt, 0.5*gamma + 0.5*I*sigma)"
      ]
     },
     "metadata": {},
     "output_type": "display_data"
    },
    {
     "name": "stdout",
     "output_type": "stream",
     "text": [
      "Have steady state:\n"
     ]
    },
    {
     "data": {
      "text/latex": [
       "$\\displaystyle \\frac{- \\gamma - i \\sigma}{\\alpha + i \\beta}$"
      ],
      "text/plain": [
       "(-gamma - I*sigma)/(alpha + I*beta)"
      ]
     },
     "metadata": {},
     "output_type": "display_data"
    },
    {
     "name": "stdout",
     "output_type": "stream",
     "text": [
      "Have steady state error:\n"
     ]
    },
    {
     "data": {
      "text/latex": [
       "$\\displaystyle 0$"
      ],
      "text/plain": [
       "0"
      ]
     },
     "metadata": {},
     "output_type": "display_data"
    }
   ],
   "source": [
    "#(4)(iii) Source - Crank Nicolson - Source (expect exact steady state)\n",
    "SFS_recipe = [\n",
    "    (\"ADV_DIFF_step\", {\"xi\": 0, \"eta\": 1/2, \"s\": 1, \"f\": 0}),\n",
    "    (\"ADV_DIFF_step\", {\"xi\": 1/2, \"eta\": 1.0, \"s\": 0, \"f\": 1}),\n",
    "    (\"ADV_DIFF_step\", {\"xi\": 0, \"eta\": 1/2, \"s\": 1, \"f\": 0}),\n",
    "]\n",
    "scheme_summary(SFS_recipe)"
   ]
  },
  {
   "cell_type": "markdown",
   "id": "2a07ab9a",
   "metadata": {},
   "source": [
    "### The following section showcase splitting schemes branching from the Forcing-source-forcing (5) method and thier steady state errors\n",
    "Here, we have common step type:\n",
    "\"ADV_DIFF_step\", with s=0, f=1\n",
    "\"ADV_DIFF_step\" with s=1, f=0\n",
    "\"ADV_DIFF_step\" with s=0, f=1\n",
    "\n",
    "We see this indeed recreate the FSF split from Dubal et al. (2004)"
   ]
  },
  {
   "cell_type": "code",
   "execution_count": 42,
   "id": "251b7612",
   "metadata": {},
   "outputs": [
    {
     "name": "stdout",
     "output_type": "stream",
     "text": [
      "The scheme steps is (In the order of operation):\n"
     ]
    },
    {
     "data": {
      "text/latex": [
       "$\\displaystyle \\frac{- y^{n} + y^{n+1}}{Δt} = y^{n} \\left(\\alpha + i \\beta\\right)$"
      ],
      "text/plain": [
       "Eq((-y^n + y^{n+1})/Δt, y^n*(alpha + I*beta))"
      ]
     },
     "metadata": {},
     "output_type": "display_data"
    },
    {
     "data": {
      "text/latex": [
       "$\\displaystyle \\frac{- y^{n} + y^{n+1}}{Δt} = \\gamma + i \\sigma$"
      ],
      "text/plain": [
       "Eq((-y^n + y^{n+1})/Δt, gamma + I*sigma)"
      ]
     },
     "metadata": {},
     "output_type": "display_data"
    },
    {
     "data": {
      "text/latex": [
       "$\\displaystyle \\frac{- y^{n} + y^{n+1}}{Δt} = 0$"
      ],
      "text/plain": [
       "Eq((-y^n + y^{n+1})/Δt, 0)"
      ]
     },
     "metadata": {},
     "output_type": "display_data"
    },
    {
     "name": "stdout",
     "output_type": "stream",
     "text": [
      "Have steady state:\n"
     ]
    },
    {
     "data": {
      "text/latex": [
       "$\\displaystyle \\frac{- \\gamma - i \\sigma}{\\alpha + i \\beta}$"
      ],
      "text/plain": [
       "(-gamma - I*sigma)/(alpha + I*beta)"
      ]
     },
     "metadata": {},
     "output_type": "display_data"
    },
    {
     "name": "stdout",
     "output_type": "stream",
     "text": [
      "Have steady state error:\n"
     ]
    },
    {
     "data": {
      "text/latex": [
       "$\\displaystyle 0$"
      ],
      "text/plain": [
       "0"
      ]
     },
     "metadata": {},
     "output_type": "display_data"
    }
   ],
   "source": [
    "#(5)(i), explicit-source (expect exact steady state) same as (4)(i)\n",
    "FS_recipe = [\n",
    "    (\"ADV_DIFF_step\", {\"xi\": 0, \"eta\": 1, \"s\": 0, \"f\": 1}),\n",
    "    (\"ADV_DIFF_step\", {\"xi\": 0, \"eta\": 1, \"s\": 1, \"f\": 0}),\n",
    "    (\"ADV_DIFF_step\", {\"xi\": 0, \"eta\": 0, \"s\": 0, \"f\": 1}),\n",
    "    \n",
    "]\n",
    "scheme_summary(FS_recipe)"
   ]
  },
  {
   "cell_type": "code",
   "execution_count": 43,
   "id": "eb1611dd",
   "metadata": {},
   "outputs": [
    {
     "name": "stdout",
     "output_type": "stream",
     "text": [
      "The scheme steps is (In the order of operation):\n"
     ]
    },
    {
     "data": {
      "text/latex": [
       "$\\displaystyle \\frac{- y^{n} + y^{n+1}}{Δt} = 0$"
      ],
      "text/plain": [
       "Eq((-y^n + y^{n+1})/Δt, 0)"
      ]
     },
     "metadata": {},
     "output_type": "display_data"
    },
    {
     "data": {
      "text/latex": [
       "$\\displaystyle \\frac{- y^{n} + y^{n+1}}{Δt} = \\gamma + i \\sigma$"
      ],
      "text/plain": [
       "Eq((-y^n + y^{n+1})/Δt, gamma + I*sigma)"
      ]
     },
     "metadata": {},
     "output_type": "display_data"
    },
    {
     "data": {
      "text/latex": [
       "$\\displaystyle \\frac{- y^{n} + y^{n+1}}{Δt} = y^{n+1} \\left(\\alpha + i \\beta\\right)$"
      ],
      "text/plain": [
       "Eq((-y^n + y^{n+1})/Δt, y^{n+1}*(alpha + I*beta))"
      ]
     },
     "metadata": {},
     "output_type": "display_data"
    },
    {
     "name": "stdout",
     "output_type": "stream",
     "text": [
      "Have steady state:\n"
     ]
    },
    {
     "data": {
      "text/latex": [
       "$\\displaystyle \\frac{- \\gamma - i \\sigma}{\\alpha + i \\beta}$"
      ],
      "text/plain": [
       "(-gamma - I*sigma)/(alpha + I*beta)"
      ]
     },
     "metadata": {},
     "output_type": "display_data"
    },
    {
     "name": "stdout",
     "output_type": "stream",
     "text": [
      "Have steady state error:\n"
     ]
    },
    {
     "data": {
      "text/latex": [
       "$\\displaystyle 0$"
      ],
      "text/plain": [
       "0"
      ]
     },
     "metadata": {},
     "output_type": "display_data"
    }
   ],
   "source": [
    "#(5)(ii), source - implicit splitting (expect exact steady state) same as (4)(ii)\n",
    "SF_recipe = [\n",
    "    (\"ADV_DIFF_step\", {\"xi\": 0, \"eta\": 0, \"s\": 0, \"f\": 1}),\n",
    "    (\"ADV_DIFF_step\", {\"xi\": 1, \"eta\": 1, \"s\": 1, \"f\": 0}),\n",
    "    (\"ADV_DIFF_step\", {\"xi\": 1, \"eta\": 1, \"s\": 0, \"f\": 1}),\n",
    "]\n",
    "scheme_summary(SF_recipe)"
   ]
  },
  {
   "cell_type": "code",
   "execution_count": 44,
   "id": "56c4700b",
   "metadata": {},
   "outputs": [
    {
     "name": "stdout",
     "output_type": "stream",
     "text": [
      "The scheme steps is (In the order of operation):\n"
     ]
    },
    {
     "data": {
      "text/latex": [
       "$\\displaystyle \\frac{- y^{n} + y^{n+1}}{Δt} = 0.5 \\left(\\alpha + i \\beta\\right) \\left(0.5 y^{n} + 0.5 y^{n+1}\\right)$"
      ],
      "text/plain": [
       "Eq((-y^n + y^{n+1})/Δt, 0.5*(alpha + I*beta)*(0.5*y^n + 0.5*y^{n+1}))"
      ]
     },
     "metadata": {},
     "output_type": "display_data"
    },
    {
     "data": {
      "text/latex": [
       "$\\displaystyle \\frac{- y^{n} + y^{n+1}}{Δt} = \\gamma + i \\sigma$"
      ],
      "text/plain": [
       "Eq((-y^n + y^{n+1})/Δt, gamma + I*sigma)"
      ]
     },
     "metadata": {},
     "output_type": "display_data"
    },
    {
     "data": {
      "text/latex": [
       "$\\displaystyle \\frac{- y^{n} + y^{n+1}}{Δt} = 0.5 \\left(\\alpha + i \\beta\\right) \\left(0.5 y^{n} + 0.5 y^{n+1}\\right)$"
      ],
      "text/plain": [
       "Eq((-y^n + y^{n+1})/Δt, 0.5*(alpha + I*beta)*(0.5*y^n + 0.5*y^{n+1}))"
      ]
     },
     "metadata": {},
     "output_type": "display_data"
    },
    {
     "name": "stdout",
     "output_type": "stream",
     "text": [
      "Have steady state:\n"
     ]
    },
    {
     "data": {
      "text/latex": [
       "$\\displaystyle \\frac{0.0625 \\alpha^{2} \\gamma Δt^{2} + 0.0625 i \\alpha^{2} \\sigma Δt^{2} + 0.125 i \\alpha \\beta \\gamma Δt^{2} - 0.125 \\alpha \\beta \\sigma Δt^{2} - 0.0625 \\beta^{2} \\gamma Δt^{2} - 0.0625 i \\beta^{2} \\sigma Δt^{2} - 1.0 \\gamma - 1.0 i \\sigma}{\\alpha + i \\beta}$"
      ],
      "text/plain": [
       "(0.0625*alpha**2*gamma*Δt**2 + 0.0625*I*alpha**2*sigma*Δt**2 + 0.125*I*alpha*beta*gamma*Δt**2 - 0.125*alpha*beta*sigma*Δt**2 - 0.0625*beta**2*gamma*Δt**2 - 0.0625*I*beta**2*sigma*Δt**2 - 1.0*gamma - 1.0*I*sigma)/(alpha + I*beta)"
      ]
     },
     "metadata": {},
     "output_type": "display_data"
    },
    {
     "name": "stdout",
     "output_type": "stream",
     "text": [
      "Have steady state error:\n"
     ]
    },
    {
     "data": {
      "text/latex": [
       "$\\displaystyle 0.0625 Δt^{2} \\left(\\alpha \\gamma + i \\alpha \\sigma + i \\beta \\gamma - \\beta \\sigma\\right)$"
      ],
      "text/plain": [
       "0.0625*Δt**2*(alpha*gamma + I*alpha*sigma + I*beta*gamma - beta*sigma)"
      ]
     },
     "metadata": {},
     "output_type": "display_data"
    }
   ],
   "source": [
    "#(5)(iii), CN - source - CN (expect O(Δ𝑡^2) error), different from (4)(iii),\n",
    "FSF_recipe = [\n",
    "    (\"ADV_DIFF_step\", {\"xi\": 1/2, \"eta\": 1/2, \"s\": 0, \"f\": 1}),\n",
    "    (\"ADV_DIFF_step\", {\"xi\": 0, \"eta\": 1, \"s\": 1, \"f\": 0}),\n",
    "    (\"ADV_DIFF_step\", {\"xi\": 1/2, \"eta\": 1/2, \"s\": 0, \"f\": 1}),\n",
    "\n",
    "]\n",
    "scheme_summary(FSF_recipe)"
   ]
  },
  {
   "cell_type": "code",
   "execution_count": 45,
   "id": "83eb2e2b",
   "metadata": {},
   "outputs": [
    {
     "name": "stdout",
     "output_type": "stream",
     "text": [
      "The scheme steps is (In the order of operation):\n"
     ]
    },
    {
     "data": {
      "text/latex": [
       "$\\displaystyle \\frac{- y^{n} + y^{n+1}}{Δt} = 0.5 y^{n} \\left(\\alpha + i \\beta\\right)$"
      ],
      "text/plain": [
       "Eq((-y^n + y^{n+1})/Δt, 0.5*y^n*(alpha + I*beta))"
      ]
     },
     "metadata": {},
     "output_type": "display_data"
    },
    {
     "data": {
      "text/latex": [
       "$\\displaystyle \\frac{- y^{n} + y^{n+1}}{Δt} = \\gamma + i \\sigma$"
      ],
      "text/plain": [
       "Eq((-y^n + y^{n+1})/Δt, gamma + I*sigma)"
      ]
     },
     "metadata": {},
     "output_type": "display_data"
    },
    {
     "data": {
      "text/latex": [
       "$\\displaystyle \\frac{- y^{n} + y^{n+1}}{Δt} = 0.5 y^{n+1} \\left(\\alpha + i \\beta\\right)$"
      ],
      "text/plain": [
       "Eq((-y^n + y^{n+1})/Δt, 0.5*y^{n+1}*(alpha + I*beta))"
      ]
     },
     "metadata": {},
     "output_type": "display_data"
    },
    {
     "name": "stdout",
     "output_type": "stream",
     "text": [
      "Have steady state:\n"
     ]
    },
    {
     "data": {
      "text/latex": [
       "$\\displaystyle \\frac{- \\gamma - i \\sigma}{\\alpha + i \\beta}$"
      ],
      "text/plain": [
       "(-gamma - I*sigma)/(alpha + I*beta)"
      ]
     },
     "metadata": {},
     "output_type": "display_data"
    },
    {
     "name": "stdout",
     "output_type": "stream",
     "text": [
      "Have steady state error:\n"
     ]
    },
    {
     "data": {
      "text/latex": [
       "$\\displaystyle 0$"
      ],
      "text/plain": [
       "0"
      ]
     },
     "metadata": {},
     "output_type": "display_data"
    }
   ],
   "source": [
    "#(5)(iv) CN,explicit - source - CN,implicit (expect exact steady state)\n",
    "FSF_recipe = [\n",
    "    (\"ADV_DIFF_step\", {\"xi\": 0, \"eta\": 1/2, \"s\": 0, \"f\": 1}),\n",
    "    (\"ADV_DIFF_step\", {\"xi\": 0, \"eta\": 1, \"s\": 1, \"f\": 0}),\n",
    "    (\"ADV_DIFF_step\", {\"xi\": 1, \"eta\": 1/2, \"s\": 0, \"f\": 1}),\n",
    "]\n",
    "scheme_summary(FSF_recipe)"
   ]
  },
  {
   "cell_type": "code",
   "execution_count": 46,
   "id": "18571a7a",
   "metadata": {},
   "outputs": [
    {
     "name": "stdout",
     "output_type": "stream",
     "text": [
      "The scheme steps is (In the order of operation):\n"
     ]
    },
    {
     "data": {
      "text/latex": [
       "$\\displaystyle \\frac{- y^{n} + y^{n+1}}{Δt} = 0.5 y^{n+1} \\left(\\alpha + i \\beta\\right)$"
      ],
      "text/plain": [
       "Eq((-y^n + y^{n+1})/Δt, 0.5*y^{n+1}*(alpha + I*beta))"
      ]
     },
     "metadata": {},
     "output_type": "display_data"
    },
    {
     "data": {
      "text/latex": [
       "$\\displaystyle \\frac{- y^{n} + y^{n+1}}{Δt} = \\gamma + i \\sigma$"
      ],
      "text/plain": [
       "Eq((-y^n + y^{n+1})/Δt, gamma + I*sigma)"
      ]
     },
     "metadata": {},
     "output_type": "display_data"
    },
    {
     "data": {
      "text/latex": [
       "$\\displaystyle \\frac{- y^{n} + y^{n+1}}{Δt} = 0.5 y^{n} \\left(\\alpha + i \\beta\\right)$"
      ],
      "text/plain": [
       "Eq((-y^n + y^{n+1})/Δt, 0.5*y^n*(alpha + I*beta))"
      ]
     },
     "metadata": {},
     "output_type": "display_data"
    },
    {
     "name": "stdout",
     "output_type": "stream",
     "text": [
      "Have steady state:\n"
     ]
    },
    {
     "data": {
      "text/latex": [
       "$\\displaystyle \\frac{0.25 \\alpha^{2} \\gamma Δt^{2} + 0.25 i \\alpha^{2} \\sigma Δt^{2} + 0.5 i \\alpha \\beta \\gamma Δt^{2} - 0.5 \\alpha \\beta \\sigma Δt^{2} - 0.25 \\beta^{2} \\gamma Δt^{2} - 0.25 i \\beta^{2} \\sigma Δt^{2} - 1.0 \\gamma - 1.0 i \\sigma}{\\alpha + i \\beta}$"
      ],
      "text/plain": [
       "(0.25*alpha**2*gamma*Δt**2 + 0.25*I*alpha**2*sigma*Δt**2 + 0.5*I*alpha*beta*gamma*Δt**2 - 0.5*alpha*beta*sigma*Δt**2 - 0.25*beta**2*gamma*Δt**2 - 0.25*I*beta**2*sigma*Δt**2 - 1.0*gamma - 1.0*I*sigma)/(alpha + I*beta)"
      ]
     },
     "metadata": {},
     "output_type": "display_data"
    },
    {
     "name": "stdout",
     "output_type": "stream",
     "text": [
      "Have steady state error:\n"
     ]
    },
    {
     "data": {
      "text/latex": [
       "$\\displaystyle 0.25 Δt^{2} \\left(\\alpha \\gamma + i \\alpha \\sigma + i \\beta \\gamma - \\beta \\sigma\\right)$"
      ],
      "text/plain": [
       "0.25*Δt**2*(alpha*gamma + I*alpha*sigma + I*beta*gamma - beta*sigma)"
      ]
     },
     "metadata": {},
     "output_type": "display_data"
    }
   ],
   "source": [
    "#(5)(v) CN,implicit - source - CN,explicit (expect O(Δ𝑡^2) error)\n",
    "FSF_recipe = [\n",
    "    (\"ADV_DIFF_step\", {\"xi\": 1, \"eta\": 1/2, \"s\": 0, \"f\": 1}),\n",
    "    (\"ADV_DIFF_step\", {\"xi\": 0, \"eta\": 1, \"s\": 1, \"f\": 0}),\n",
    "    (\"ADV_DIFF_step\", {\"xi\": 0, \"eta\": 1/2, \"s\": 0, \"f\": 1}),\n",
    "]\n",
    "scheme_summary(FSF_recipe)"
   ]
  },
  {
   "cell_type": "markdown",
   "id": "3ef86990",
   "metadata": {},
   "source": [
    "Thus, tested for all the cases mentioned in Dubal et al. (2004), the same conditions holds for a complex $\\sigma$ term, where in general, implicit have to be resolved after source to arrive at steady state."
   ]
  },
  {
   "cell_type": "markdown",
   "id": "fa354d20",
   "metadata": {},
   "source": [
    "### The following section showcase splitting schemes branching from Advection-Diffusion-Advection splitting and thier steady state errors (with source term resolved on different steps)"
   ]
  },
  {
   "cell_type": "code",
   "execution_count": 47,
   "id": "7bf16dcb",
   "metadata": {},
   "outputs": [
    {
     "name": "stdout",
     "output_type": "stream",
     "text": [
      "The scheme steps is (In the order of operation):\n"
     ]
    },
    {
     "data": {
      "text/latex": [
       "$\\displaystyle \\frac{- y^{n} + y^{n+1}}{Δt} = 0.5 i \\beta \\left(0.5 y^{n} + 0.5 y^{n+1}\\right)$"
      ],
      "text/plain": [
       "Eq((-y^n + y^{n+1})/Δt, 0.5*I*beta*(0.5*y^n + 0.5*y^{n+1}))"
      ]
     },
     "metadata": {},
     "output_type": "display_data"
    },
    {
     "data": {
      "text/latex": [
       "$\\displaystyle \\frac{- y^{n} + y^{n+1}}{Δt} = \\alpha \\left(0.5 y^{n} + 0.5 y^{n+1}\\right) + \\gamma + i \\sigma$"
      ],
      "text/plain": [
       "Eq((-y^n + y^{n+1})/Δt, alpha*(0.5*y^n + 0.5*y^{n+1}) + gamma + I*sigma)"
      ]
     },
     "metadata": {},
     "output_type": "display_data"
    },
    {
     "data": {
      "text/latex": [
       "$\\displaystyle \\frac{- y^{n} + y^{n+1}}{Δt} = 0.5 i \\beta \\left(0.5 y^{n} + 0.5 y^{n+1}\\right)$"
      ],
      "text/plain": [
       "Eq((-y^n + y^{n+1})/Δt, 0.5*I*beta*(0.5*y^n + 0.5*y^{n+1}))"
      ]
     },
     "metadata": {},
     "output_type": "display_data"
    },
    {
     "name": "stdout",
     "output_type": "stream",
     "text": [
      "Have steady state:\n"
     ]
    },
    {
     "data": {
      "text/latex": [
       "$\\displaystyle \\frac{- \\beta^{2} \\gamma Δt^{2} - i \\beta^{2} \\sigma Δt^{2} - 16.0 \\gamma - 16.0 i \\sigma}{- \\alpha \\beta^{2} Δt^{2} + 16.0 \\alpha + 16.0 i \\beta}$"
      ],
      "text/plain": [
       "(-beta**2*gamma*Δt**2 - I*beta**2*sigma*Δt**2 - 16.0*gamma - 16.0*I*sigma)/(-alpha*beta**2*Δt**2 + 16.0*alpha + 16.0*I*beta)"
      ]
     },
     "metadata": {},
     "output_type": "display_data"
    },
    {
     "name": "stdout",
     "output_type": "stream",
     "text": [
      "Have steady state error:\n"
     ]
    },
    {
     "data": {
      "text/latex": [
       "$\\displaystyle \\frac{\\beta^{2} Δt^{2} \\left(- 2.0 \\alpha \\gamma - 2.0 i \\alpha \\sigma - 1.0 i \\beta \\gamma + 1.0 \\beta \\sigma\\right)}{- 1.0 \\alpha^{2} \\beta^{2} Δt^{2} + 16.0 \\alpha^{2} - 1.0 i \\alpha \\beta^{3} Δt^{2} + 32.0 i \\alpha \\beta - 16.0 \\beta^{2}}$"
      ],
      "text/plain": [
       "beta**2*Δt**2*(-2.0*alpha*gamma - 2.0*I*alpha*sigma - 1.0*I*beta*gamma + 1.0*beta*sigma)/(-1.0*alpha**2*beta**2*Δt**2 + 16.0*alpha**2 - 1.0*I*alpha*beta**3*Δt**2 + 32.0*I*alpha*beta - 16.0*beta**2)"
      ]
     },
     "metadata": {},
     "output_type": "display_data"
    }
   ],
   "source": [
    "#A-D-A CNCS With source only on D\n",
    "\n",
    "ADA_recipe = [\n",
    "    (\"ADV_step\", {\"xi\": 1/2, \"eta\": 1/2, \"s\": 0, \"f\": 1}),\n",
    "    (\"DIFF_step_fullS\", {\"xi\": 1/2, \"eta\": 1, \"s\": 1, \"f\": 1}),\n",
    "    (\"ADV_step\", {\"xi\": 1/2, \"eta\": 1/2, \"s\": 0, \"f\": 1}),\n",
    "]\n",
    "scheme_summary(ADA_recipe)"
   ]
  },
  {
   "cell_type": "code",
   "execution_count": 48,
   "id": "ba3df803",
   "metadata": {},
   "outputs": [
    {
     "name": "stdout",
     "output_type": "stream",
     "text": [
      "The scheme steps is (In the order of operation):\n"
     ]
    },
    {
     "data": {
      "text/latex": [
       "$\\displaystyle \\frac{- y^{n} + y^{n+1}}{Δt} = 0.5 i \\beta \\left(0.5 y^{n} + 0.5 y^{n+1}\\right) + 0.5 \\gamma + 0.5 i \\sigma$"
      ],
      "text/plain": [
       "Eq((-y^n + y^{n+1})/Δt, 0.5*I*beta*(0.5*y^n + 0.5*y^{n+1}) + 0.5*gamma + 0.5*I*sigma)"
      ]
     },
     "metadata": {},
     "output_type": "display_data"
    },
    {
     "data": {
      "text/latex": [
       "$\\displaystyle \\frac{- y^{n} + y^{n+1}}{Δt} = \\alpha \\left(0.5 y^{n} + 0.5 y^{n+1}\\right)$"
      ],
      "text/plain": [
       "Eq((-y^n + y^{n+1})/Δt, alpha*(0.5*y^n + 0.5*y^{n+1}))"
      ]
     },
     "metadata": {},
     "output_type": "display_data"
    },
    {
     "data": {
      "text/latex": [
       "$\\displaystyle \\frac{- y^{n} + y^{n+1}}{Δt} = 0.5 i \\beta \\left(0.5 y^{n} + 0.5 y^{n+1}\\right) + 0.5 \\gamma + 0.5 i \\sigma$"
      ],
      "text/plain": [
       "Eq((-y^n + y^{n+1})/Δt, 0.5*I*beta*(0.5*y^n + 0.5*y^{n+1}) + 0.5*gamma + 0.5*I*sigma)"
      ]
     },
     "metadata": {},
     "output_type": "display_data"
    },
    {
     "name": "stdout",
     "output_type": "stream",
     "text": [
      "Have steady state:\n"
     ]
    },
    {
     "data": {
      "text/latex": [
       "$\\displaystyle \\frac{- 2.0 i \\alpha \\beta \\gamma Δt^{2} + 2.0 \\alpha \\beta \\sigma Δt^{2} - 16.0 \\gamma - 16.0 i \\sigma}{- \\alpha \\beta^{2} Δt^{2} + 16.0 \\alpha + 16.0 i \\beta}$"
      ],
      "text/plain": [
       "(-2.0*I*alpha*beta*gamma*Δt**2 + 2.0*alpha*beta*sigma*Δt**2 - 16.0*gamma - 16.0*I*sigma)/(-alpha*beta**2*Δt**2 + 16.0*alpha + 16.0*I*beta)"
      ]
     },
     "metadata": {},
     "output_type": "display_data"
    },
    {
     "name": "stdout",
     "output_type": "stream",
     "text": [
      "Have steady state error:\n"
     ]
    },
    {
     "data": {
      "text/latex": [
       "$\\displaystyle \\frac{\\alpha \\beta Δt^{2} \\left(- 2.0 i \\alpha \\gamma + 2.0 \\alpha \\sigma + 1.0 \\beta \\gamma + 1.0 i \\beta \\sigma\\right)}{- 1.0 \\alpha^{2} \\beta^{2} Δt^{2} + 16.0 \\alpha^{2} - 1.0 i \\alpha \\beta^{3} Δt^{2} + 32.0 i \\alpha \\beta - 16.0 \\beta^{2}}$"
      ],
      "text/plain": [
       "alpha*beta*Δt**2*(-2.0*I*alpha*gamma + 2.0*alpha*sigma + 1.0*beta*gamma + 1.0*I*beta*sigma)/(-1.0*alpha**2*beta**2*Δt**2 + 16.0*alpha**2 - 1.0*I*alpha*beta**3*Δt**2 + 32.0*I*alpha*beta - 16.0*beta**2)"
      ]
     },
     "metadata": {},
     "output_type": "display_data"
    }
   ],
   "source": [
    "#A-D-A CNCS With source only on A\n",
    "ADA_recipe = [\n",
    "    (\"ADV_step_fullS\", {\"xi\": 1/2, \"eta\": 1/2, \"s\": 1, \"f\": 1}),\n",
    "    (\"DIFF_step\", {\"xi\": 1/2, \"eta\": 1, \"s\": 0, \"f\": 1}),\n",
    "    (\"ADV_step_fullS\", {\"xi\": 1/2, \"eta\": 1/2, \"s\": 1, \"f\": 1}),\n",
    "]\n",
    "scheme_summary(ADA_recipe)"
   ]
  },
  {
   "cell_type": "code",
   "execution_count": 49,
   "id": "2ee7c597",
   "metadata": {},
   "outputs": [
    {
     "name": "stdout",
     "output_type": "stream",
     "text": [
      "The scheme steps is (In the order of operation):\n"
     ]
    },
    {
     "data": {
      "text/latex": [
       "$\\displaystyle \\frac{- y^{n} + y^{n+1}}{Δt} = 0.5 i \\beta \\left(0.5 y^{n} + 0.5 y^{n+1}\\right) + 0.5 i \\sigma$"
      ],
      "text/plain": [
       "Eq((-y^n + y^{n+1})/Δt, 0.5*I*beta*(0.5*y^n + 0.5*y^{n+1}) + 0.5*I*sigma)"
      ]
     },
     "metadata": {},
     "output_type": "display_data"
    },
    {
     "data": {
      "text/latex": [
       "$\\displaystyle \\frac{- y^{n} + y^{n+1}}{Δt} = \\alpha \\left(0.5 y^{n} + 0.5 y^{n+1}\\right) + \\gamma$"
      ],
      "text/plain": [
       "Eq((-y^n + y^{n+1})/Δt, alpha*(0.5*y^n + 0.5*y^{n+1}) + gamma)"
      ]
     },
     "metadata": {},
     "output_type": "display_data"
    },
    {
     "data": {
      "text/latex": [
       "$\\displaystyle \\frac{- y^{n} + y^{n+1}}{Δt} = 0.5 i \\beta \\left(0.5 y^{n} + 0.5 y^{n+1}\\right) + 0.5 i \\sigma$"
      ],
      "text/plain": [
       "Eq((-y^n + y^{n+1})/Δt, 0.5*I*beta*(0.5*y^n + 0.5*y^{n+1}) + 0.5*I*sigma)"
      ]
     },
     "metadata": {},
     "output_type": "display_data"
    },
    {
     "name": "stdout",
     "output_type": "stream",
     "text": [
      "Have steady state:\n"
     ]
    },
    {
     "data": {
      "text/latex": [
       "$\\displaystyle \\frac{2.0 \\alpha \\beta \\sigma Δt^{2} - \\beta^{2} \\gamma Δt^{2} - 16.0 \\gamma - 16.0 i \\sigma}{- \\alpha \\beta^{2} Δt^{2} + 16.0 \\alpha + 16.0 i \\beta}$"
      ],
      "text/plain": [
       "(2.0*alpha*beta*sigma*Δt**2 - beta**2*gamma*Δt**2 - 16.0*gamma - 16.0*I*sigma)/(-alpha*beta**2*Δt**2 + 16.0*alpha + 16.0*I*beta)"
      ]
     },
     "metadata": {},
     "output_type": "display_data"
    },
    {
     "name": "stdout",
     "output_type": "stream",
     "text": [
      "Have steady state error:\n"
     ]
    },
    {
     "data": {
      "text/latex": [
       "$\\displaystyle \\frac{\\left(\\alpha + i \\beta\\right) \\left(2.0 \\alpha \\beta \\sigma Δt^{2} - \\beta^{2} \\gamma Δt^{2} - 16.0 \\gamma - 16.0 i \\sigma\\right) + \\left(\\gamma + i \\sigma\\right) \\left(- \\alpha \\beta^{2} Δt^{2} + 16.0 \\alpha + 16.0 i \\beta\\right)}{\\left(\\alpha + i \\beta\\right) \\left(- \\alpha \\beta^{2} Δt^{2} + 16.0 \\alpha + 16.0 i \\beta\\right)}$"
      ],
      "text/plain": [
       "((alpha + I*beta)*(2.0*alpha*beta*sigma*Δt**2 - beta**2*gamma*Δt**2 - 16.0*gamma - 16.0*I*sigma) + (gamma + I*sigma)*(-alpha*beta**2*Δt**2 + 16.0*alpha + 16.0*I*beta))/((alpha + I*beta)*(-alpha*beta**2*Δt**2 + 16.0*alpha + 16.0*I*beta))"
      ]
     },
     "metadata": {},
     "output_type": "display_data"
    }
   ],
   "source": [
    "#A-D-A CNCS With source on all steps\n",
    "ADA_recipe = [\n",
    "    (\"ADV_step\", {\"xi\": 1/2, \"eta\": 1/2, \"s\": 1, \"f\": 1}),\n",
    "    (\"DIFF_step\", {\"xi\": 1/2, \"eta\": 1, \"s\": 1, \"f\": 1}),\n",
    "    (\"ADV_step\", {\"xi\": 1/2, \"eta\": 1/2, \"s\": 1, \"f\": 1}),\n",
    "]\n",
    "scheme_summary(ADA_recipe)"
   ]
  },
  {
   "cell_type": "code",
   "execution_count": 50,
   "id": "ff9286d2",
   "metadata": {},
   "outputs": [
    {
     "name": "stdout",
     "output_type": "stream",
     "text": [
      "The scheme steps is (In the order of operation):\n"
     ]
    },
    {
     "data": {
      "text/latex": [
       "$\\displaystyle \\frac{- y^{n} + y^{n+1}}{Δt} = 0.5 i \\beta y^{n} + 0.5 i \\sigma$"
      ],
      "text/plain": [
       "Eq((-y^n + y^{n+1})/Δt, 0.5*I*beta*y^n + 0.5*I*sigma)"
      ]
     },
     "metadata": {},
     "output_type": "display_data"
    },
    {
     "data": {
      "text/latex": [
       "$\\displaystyle \\frac{- y^{n} + y^{n+1}}{Δt} = \\alpha y^{n} + \\gamma$"
      ],
      "text/plain": [
       "Eq((-y^n + y^{n+1})/Δt, alpha*y^n + gamma)"
      ]
     },
     "metadata": {},
     "output_type": "display_data"
    },
    {
     "data": {
      "text/latex": [
       "$\\displaystyle \\frac{- y^{n} + y^{n+1}}{Δt} = 0.5 i \\beta y^{n} + 0.5 i \\sigma$"
      ],
      "text/plain": [
       "Eq((-y^n + y^{n+1})/Δt, 0.5*I*beta*y^n + 0.5*I*sigma)"
      ]
     },
     "metadata": {},
     "output_type": "display_data"
    },
    {
     "name": "stdout",
     "output_type": "stream",
     "text": [
      "Have steady state:\n"
     ]
    },
    {
     "data": {
      "text/latex": [
       "$\\displaystyle \\frac{\\alpha \\beta \\sigma Δt^{2} - 2.0 i \\alpha \\sigma Δt - 2.0 i \\beta \\gamma Δt + \\beta \\sigma Δt - 4.0 \\gamma - 4.0 i \\sigma}{- \\alpha \\beta^{2} Δt^{2} + 4.0 i \\alpha \\beta Δt + 4.0 \\alpha - \\beta^{2} Δt + 4.0 i \\beta}$"
      ],
      "text/plain": [
       "(alpha*beta*sigma*Δt**2 - 2.0*I*alpha*sigma*Δt - 2.0*I*beta*gamma*Δt + beta*sigma*Δt - 4.0*gamma - 4.0*I*sigma)/(-alpha*beta**2*Δt**2 + 4.0*I*alpha*beta*Δt + 4.0*alpha - beta**2*Δt + 4.0*I*beta)"
      ]
     },
     "metadata": {},
     "output_type": "display_data"
    },
    {
     "name": "stdout",
     "output_type": "stream",
     "text": [
      "Have steady state error:\n"
     ]
    },
    {
     "data": {
      "text/latex": [
       "$\\displaystyle \\frac{\\left(\\alpha + i \\beta\\right) \\left(\\alpha \\beta \\sigma Δt^{2} - 2.0 i \\alpha \\sigma Δt - 2.0 i \\beta \\gamma Δt + \\beta \\sigma Δt - 4.0 \\gamma - 4.0 i \\sigma\\right) + \\left(\\gamma + i \\sigma\\right) \\left(- \\alpha \\beta^{2} Δt^{2} + 4.0 i \\alpha \\beta Δt + 4.0 \\alpha - \\beta^{2} Δt + 4.0 i \\beta\\right)}{\\left(\\alpha + i \\beta\\right) \\left(- \\alpha \\beta^{2} Δt^{2} + 4.0 i \\alpha \\beta Δt + 4.0 \\alpha - \\beta^{2} Δt + 4.0 i \\beta\\right)}$"
      ],
      "text/plain": [
       "((alpha + I*beta)*(alpha*beta*sigma*Δt**2 - 2.0*I*alpha*sigma*Δt - 2.0*I*beta*gamma*Δt + beta*sigma*Δt - 4.0*gamma - 4.0*I*sigma) + (gamma + I*sigma)*(-alpha*beta**2*Δt**2 + 4.0*I*alpha*beta*Δt + 4.0*alpha - beta**2*Δt + 4.0*I*beta))/((alpha + I*beta)*(-alpha*beta**2*Δt**2 + 4.0*I*alpha*beta*Δt + 4.0*alpha - beta**2*Δt + 4.0*I*beta))"
      ]
     },
     "metadata": {},
     "output_type": "display_data"
    }
   ],
   "source": [
    "#A-D-A FTCS With source on all steps\n",
    "ADA_recipe = [\n",
    "    (\"ADV_step\", {\"xi\": 0, \"eta\": 1/2, \"s\": 1, \"f\": 1}),\n",
    "    (\"DIFF_step\", {\"xi\": 0, \"eta\": 1, \"s\": 1, \"f\": 1}),\n",
    "    (\"ADV_step\", {\"xi\": 0, \"eta\": 1/2, \"s\": 1, \"f\": 1}),\n",
    "]\n",
    "scheme_summary(ADA_recipe)"
   ]
  },
  {
   "cell_type": "code",
   "execution_count": 51,
   "id": "9bb5e052",
   "metadata": {},
   "outputs": [
    {
     "name": "stdout",
     "output_type": "stream",
     "text": [
      "The scheme steps is (In the order of operation):\n"
     ]
    },
    {
     "data": {
      "text/latex": [
       "$\\displaystyle \\frac{- y^{n} + y^{n+1}}{Δt} = 0.5 i \\beta y^{n}$"
      ],
      "text/plain": [
       "Eq((-y^n + y^{n+1})/Δt, 0.5*I*beta*y^n)"
      ]
     },
     "metadata": {},
     "output_type": "display_data"
    },
    {
     "data": {
      "text/latex": [
       "$\\displaystyle \\frac{- y^{n} + y^{n+1}}{Δt} = \\alpha \\left(0.5 y^{n} + 0.5 y^{n+1}\\right) + \\gamma + i \\sigma$"
      ],
      "text/plain": [
       "Eq((-y^n + y^{n+1})/Δt, alpha*(0.5*y^n + 0.5*y^{n+1}) + gamma + I*sigma)"
      ]
     },
     "metadata": {},
     "output_type": "display_data"
    },
    {
     "data": {
      "text/latex": [
       "$\\displaystyle \\frac{- y^{n} + y^{n+1}}{Δt} = 0.5 i \\beta y^{n+1}$"
      ],
      "text/plain": [
       "Eq((-y^n + y^{n+1})/Δt, 0.5*I*beta*y^{n+1})"
      ]
     },
     "metadata": {},
     "output_type": "display_data"
    },
    {
     "name": "stdout",
     "output_type": "stream",
     "text": [
      "Have steady state:\n"
     ]
    },
    {
     "data": {
      "text/latex": [
       "$\\displaystyle \\frac{- \\gamma - i \\sigma}{\\alpha + i \\beta}$"
      ],
      "text/plain": [
       "(-gamma - I*sigma)/(alpha + I*beta)"
      ]
     },
     "metadata": {},
     "output_type": "display_data"
    },
    {
     "name": "stdout",
     "output_type": "stream",
     "text": [
      "Have steady state error:\n"
     ]
    },
    {
     "data": {
      "text/latex": [
       "$\\displaystyle 0$"
      ],
      "text/plain": [
       "0"
      ]
     },
     "metadata": {},
     "output_type": "display_data"
    }
   ],
   "source": [
    "#A-D-A CN-E CN CN-I With source only on D\n",
    "\n",
    "ADA_recipe = [\n",
    "    (\"ADV_step\", {\"xi\": 0, \"eta\": 1/2, \"s\": 0, \"f\": 1}),\n",
    "    (\"DIFF_step_fullS\", {\"xi\": 1/2, \"eta\": 1, \"s\": 1, \"f\": 1}),\n",
    "    (\"ADV_step\", {\"xi\": 1, \"eta\": 1/2, \"s\": 0, \"f\": 1}),\n",
    "]\n",
    "scheme_summary(ADA_recipe)"
   ]
  },
  {
   "cell_type": "code",
   "execution_count": 52,
   "id": "64b5be1c",
   "metadata": {},
   "outputs": [
    {
     "name": "stdout",
     "output_type": "stream",
     "text": [
      "The scheme steps is (In the order of operation):\n"
     ]
    },
    {
     "data": {
      "text/latex": [
       "$\\displaystyle \\frac{- y^{n} + y^{n+1}}{Δt} = 0.5 i \\beta y^{n} + 0.5 \\gamma + 0.5 i \\sigma$"
      ],
      "text/plain": [
       "Eq((-y^n + y^{n+1})/Δt, 0.5*I*beta*y^n + 0.5*gamma + 0.5*I*sigma)"
      ]
     },
     "metadata": {},
     "output_type": "display_data"
    },
    {
     "data": {
      "text/latex": [
       "$\\displaystyle \\frac{- y^{n} + y^{n+1}}{Δt} = \\alpha \\left(0.5 y^{n} + 0.5 y^{n+1}\\right)$"
      ],
      "text/plain": [
       "Eq((-y^n + y^{n+1})/Δt, alpha*(0.5*y^n + 0.5*y^{n+1}))"
      ]
     },
     "metadata": {},
     "output_type": "display_data"
    },
    {
     "data": {
      "text/latex": [
       "$\\displaystyle \\frac{- y^{n} + y^{n+1}}{Δt} = 0.5 i \\beta y^{n+1} + 0.5 \\gamma + 0.5 i \\sigma$"
      ],
      "text/plain": [
       "Eq((-y^n + y^{n+1})/Δt, 0.5*I*beta*y^{n+1} + 0.5*gamma + 0.5*I*sigma)"
      ]
     },
     "metadata": {},
     "output_type": "display_data"
    },
    {
     "name": "stdout",
     "output_type": "stream",
     "text": [
      "Have steady state:\n"
     ]
    },
    {
     "data": {
      "text/latex": [
       "$\\displaystyle \\frac{- \\gamma - i \\sigma}{\\alpha + i \\beta}$"
      ],
      "text/plain": [
       "(-gamma - I*sigma)/(alpha + I*beta)"
      ]
     },
     "metadata": {},
     "output_type": "display_data"
    },
    {
     "name": "stdout",
     "output_type": "stream",
     "text": [
      "Have steady state error:\n"
     ]
    },
    {
     "data": {
      "text/latex": [
       "$\\displaystyle 0$"
      ],
      "text/plain": [
       "0"
      ]
     },
     "metadata": {},
     "output_type": "display_data"
    }
   ],
   "source": [
    "#A-D-A CN-E CN CN-I With source only on A\n",
    "\n",
    "ADA_recipe = [\n",
    "    (\"ADV_step_fullS\", {\"xi\": 0, \"eta\": 1/2, \"s\": 1, \"f\": 1}),\n",
    "    (\"DIFF_step\", {\"xi\": 1/2, \"eta\": 1, \"s\": 0, \"f\": 1}),\n",
    "    (\"ADV_step_fullS\", {\"xi\": 1, \"eta\": 1/2, \"s\": 1, \"f\": 1}),\n",
    "]\n",
    "scheme_summary(ADA_recipe)"
   ]
  },
  {
   "cell_type": "code",
   "execution_count": 53,
   "id": "ebcbf086",
   "metadata": {},
   "outputs": [
    {
     "name": "stdout",
     "output_type": "stream",
     "text": [
      "The scheme steps is (In the order of operation):\n"
     ]
    },
    {
     "data": {
      "text/latex": [
       "$\\displaystyle \\frac{- y^{n} + y^{n+1}}{Δt} = \\alpha y^{n+1}$"
      ],
      "text/plain": [
       "Eq((-y^n + y^{n+1})/Δt, alpha*y^{n+1})"
      ]
     },
     "metadata": {},
     "output_type": "display_data"
    },
    {
     "data": {
      "text/latex": [
       "$\\displaystyle \\frac{- y^{n} + y^{n+1}}{Δt} = i \\beta y^{n+1}$"
      ],
      "text/plain": [
       "Eq((-y^n + y^{n+1})/Δt, I*beta*y^{n+1})"
      ]
     },
     "metadata": {},
     "output_type": "display_data"
    },
    {
     "name": "stdout",
     "output_type": "stream",
     "text": [
      "Have steady state:\n"
     ]
    },
    {
     "data": {
      "text/latex": [
       "$\\displaystyle 0$"
      ],
      "text/plain": [
       "0"
      ]
     },
     "metadata": {},
     "output_type": "display_data"
    },
    {
     "name": "stdout",
     "output_type": "stream",
     "text": [
      "Have steady state error:\n"
     ]
    },
    {
     "data": {
      "text/latex": [
       "$\\displaystyle \\frac{\\gamma + i \\sigma}{\\alpha + i \\beta}$"
      ],
      "text/plain": [
       "(gamma + I*sigma)/(alpha + I*beta)"
      ]
     },
     "metadata": {},
     "output_type": "display_data"
    }
   ],
   "source": [
    "#BTCS DA:\n",
    "BTCS_recipe = [\n",
    "    (\"DIFF_step\", {\"xi\": 1, \"eta\": 1, \"s\": 0, \"f\": 1}),\n",
    "    (\"ADV_step\", {\"xi\": 1, \"eta\": 1, \"s\": 0, \"f\": 1}),\n",
    "]\n",
    "scheme_summary(BTCS_recipe)"
   ]
  }
 ],
 "metadata": {
  "kernelspec": {
   "display_name": "xarrays",
   "language": "python",
   "name": "python3"
  },
  "language_info": {
   "codemirror_mode": {
    "name": "ipython",
    "version": 3
   },
   "file_extension": ".py",
   "mimetype": "text/x-python",
   "name": "python",
   "nbconvert_exporter": "python",
   "pygments_lexer": "ipython3",
   "version": "3.12.9"
  }
 },
 "nbformat": 4,
 "nbformat_minor": 5
}
